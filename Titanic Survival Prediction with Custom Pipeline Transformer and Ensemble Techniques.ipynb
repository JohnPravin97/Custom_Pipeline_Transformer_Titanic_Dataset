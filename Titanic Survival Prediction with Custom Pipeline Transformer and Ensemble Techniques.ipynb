{
 "cells": [
  {
   "cell_type": "markdown",
   "metadata": {
    "ExecuteTime": {
     "end_time": "2020-10-05T08:59:16.542512Z",
     "start_time": "2020-10-05T08:59:16.538517Z"
    }
   },
   "source": [
    "<b style=\"font-size:2vw\"> Introduction</b>"
   ]
  },
  {
   "cell_type": "markdown",
   "metadata": {},
   "source": [
    "1. In this notebook, a custom pipeline transformers (Custom_Pipeline_Transformer) was created and saved as a user defined library which we later imported and used it for better appeal of the code. \n",
    "2. This user defined transformer library can be used for any implementation of the below imported functions.\n",
    "3. We also improved the performance of our algorithms using ensemble techniques.\n"
   ]
  },
  {
   "cell_type": "markdown",
   "metadata": {
    "id": "SWRTxGf8nW47"
   },
   "source": [
    "<b style=\"font-size:2vw\"> Import Library </b>"
   ]
  },
  {
   "cell_type": "code",
   "execution_count": 23,
   "metadata": {
    "ExecuteTime": {
     "end_time": "2020-10-06T09:49:22.619579Z",
     "start_time": "2020-10-06T09:49:22.562066Z"
    },
    "id": "2n2gqnQ2pV4C"
   },
   "outputs": [],
   "source": [
    "import pandas as pd\n",
    "import numpy as np\n",
    "import matplotlib.pyplot as plt\n",
    "import seaborn as sns\n",
    "from functools import reduce\n",
    "from sklearn.preprocessing import PolynomialFeatures, StandardScaler, OneHotEncoder\n",
    "from sklearn.impute import SimpleImputer\n",
    "from sklearn.metrics import mean_squared_error, accuracy_score, classification_report, f1_score, roc_auc_score, roc_curve, plot_roc_curve, confusion_matrix\n",
    "from sklearn.model_selection import GridSearchCV, learning_curve, train_test_split\n",
    "from sklearn.pipeline import make_pipeline, FeatureUnion\n",
    "from sklearn.decomposition import PCA\n",
    "from sklearn.linear_model import LinearRegression\n",
    "from sklearn.linear_model import LogisticRegression\n",
    "from sklearn.svm import SVC\n",
    "from sklearn.neighbors import KNeighborsClassifier\n",
    "from sklearn.base import TransformerMixin, BaseEstimator\n",
    "from sklearn.preprocessing import FunctionTransformer\n",
    "from sklearn.compose import make_column_transformer\n",
    "from sklearn.tree import DecisionTreeClassifier\n",
    "from sklearn.ensemble import VotingClassifier, RandomForestClassifier, BaggingClassifier\n",
    "from Custom_Pipeline_Transformer.Custom_Pipeline_Transformer import make_column_transformerz, columnseparater, standardscaler, categorical_data, DFFeatureUnion\n",
    "%matplotlib inline"
   ]
  },
  {
   "cell_type": "markdown",
   "metadata": {
    "id": "o1SU2NFPnf9S"
   },
   "source": [
    "<b style=\"font-size:2vw\"> Exploratory Data Analysis </b>"
   ]
  },
  {
   "cell_type": "code",
   "execution_count": 24,
   "metadata": {
    "ExecuteTime": {
     "end_time": "2020-10-06T09:49:22.751293Z",
     "start_time": "2020-10-06T09:49:22.629741Z"
    },
    "colab": {
     "base_uri": "https://localhost:8080/",
     "height": 229
    },
    "id": "8jyDVYonqbJd",
    "outputId": "9e1f8def-1a35-448d-d0c1-e55deb6a0c01"
   },
   "outputs": [
    {
     "data": {
      "text/html": [
       "<div>\n",
       "<style scoped>\n",
       "    .dataframe tbody tr th:only-of-type {\n",
       "        vertical-align: middle;\n",
       "    }\n",
       "\n",
       "    .dataframe tbody tr th {\n",
       "        vertical-align: top;\n",
       "    }\n",
       "\n",
       "    .dataframe thead th {\n",
       "        text-align: right;\n",
       "    }\n",
       "</style>\n",
       "<table border=\"1\" class=\"dataframe\">\n",
       "  <thead>\n",
       "    <tr style=\"text-align: right;\">\n",
       "      <th></th>\n",
       "      <th>PassengerId</th>\n",
       "      <th>Survived</th>\n",
       "      <th>Pclass</th>\n",
       "      <th>Name</th>\n",
       "      <th>Sex</th>\n",
       "      <th>Age</th>\n",
       "      <th>SibSp</th>\n",
       "      <th>Parch</th>\n",
       "      <th>Ticket</th>\n",
       "      <th>Fare</th>\n",
       "      <th>Cabin</th>\n",
       "      <th>Embarked</th>\n",
       "    </tr>\n",
       "  </thead>\n",
       "  <tbody>\n",
       "    <tr>\n",
       "      <th>0</th>\n",
       "      <td>1</td>\n",
       "      <td>0</td>\n",
       "      <td>3</td>\n",
       "      <td>Braund, Mr. Owen Harris</td>\n",
       "      <td>male</td>\n",
       "      <td>22.0</td>\n",
       "      <td>1</td>\n",
       "      <td>0</td>\n",
       "      <td>A/5 21171</td>\n",
       "      <td>7.2500</td>\n",
       "      <td>NaN</td>\n",
       "      <td>S</td>\n",
       "    </tr>\n",
       "    <tr>\n",
       "      <th>1</th>\n",
       "      <td>2</td>\n",
       "      <td>1</td>\n",
       "      <td>1</td>\n",
       "      <td>Cumings, Mrs. John Bradley (Florence Briggs Th...</td>\n",
       "      <td>female</td>\n",
       "      <td>38.0</td>\n",
       "      <td>1</td>\n",
       "      <td>0</td>\n",
       "      <td>PC 17599</td>\n",
       "      <td>71.2833</td>\n",
       "      <td>C85</td>\n",
       "      <td>C</td>\n",
       "    </tr>\n",
       "    <tr>\n",
       "      <th>2</th>\n",
       "      <td>3</td>\n",
       "      <td>1</td>\n",
       "      <td>3</td>\n",
       "      <td>Heikkinen, Miss. Laina</td>\n",
       "      <td>female</td>\n",
       "      <td>26.0</td>\n",
       "      <td>0</td>\n",
       "      <td>0</td>\n",
       "      <td>STON/O2. 3101282</td>\n",
       "      <td>7.9250</td>\n",
       "      <td>NaN</td>\n",
       "      <td>S</td>\n",
       "    </tr>\n",
       "    <tr>\n",
       "      <th>3</th>\n",
       "      <td>4</td>\n",
       "      <td>1</td>\n",
       "      <td>1</td>\n",
       "      <td>Futrelle, Mrs. Jacques Heath (Lily May Peel)</td>\n",
       "      <td>female</td>\n",
       "      <td>35.0</td>\n",
       "      <td>1</td>\n",
       "      <td>0</td>\n",
       "      <td>113803</td>\n",
       "      <td>53.1000</td>\n",
       "      <td>C123</td>\n",
       "      <td>S</td>\n",
       "    </tr>\n",
       "    <tr>\n",
       "      <th>4</th>\n",
       "      <td>5</td>\n",
       "      <td>0</td>\n",
       "      <td>3</td>\n",
       "      <td>Allen, Mr. William Henry</td>\n",
       "      <td>male</td>\n",
       "      <td>35.0</td>\n",
       "      <td>0</td>\n",
       "      <td>0</td>\n",
       "      <td>373450</td>\n",
       "      <td>8.0500</td>\n",
       "      <td>NaN</td>\n",
       "      <td>S</td>\n",
       "    </tr>\n",
       "  </tbody>\n",
       "</table>\n",
       "</div>"
      ],
      "text/plain": [
       "   PassengerId  Survived  Pclass  \\\n",
       "0            1         0       3   \n",
       "1            2         1       1   \n",
       "2            3         1       3   \n",
       "3            4         1       1   \n",
       "4            5         0       3   \n",
       "\n",
       "                                                Name     Sex   Age  SibSp  \\\n",
       "0                            Braund, Mr. Owen Harris    male  22.0      1   \n",
       "1  Cumings, Mrs. John Bradley (Florence Briggs Th...  female  38.0      1   \n",
       "2                             Heikkinen, Miss. Laina  female  26.0      0   \n",
       "3       Futrelle, Mrs. Jacques Heath (Lily May Peel)  female  35.0      1   \n",
       "4                           Allen, Mr. William Henry    male  35.0      0   \n",
       "\n",
       "   Parch            Ticket     Fare Cabin Embarked  \n",
       "0      0         A/5 21171   7.2500   NaN        S  \n",
       "1      0          PC 17599  71.2833   C85        C  \n",
       "2      0  STON/O2. 3101282   7.9250   NaN        S  \n",
       "3      0            113803  53.1000  C123        S  \n",
       "4      0            373450   8.0500   NaN        S  "
      ]
     },
     "execution_count": 24,
     "metadata": {},
     "output_type": "execute_result"
    }
   ],
   "source": [
    "df_train = pd.read_csv(r'C:\\Users\\jpravijo\\Desktop\\Anaconda\\titanic\\train.csv')\n",
    "df_test = pd.read_csv(r'C:\\Users\\jpravijo\\Desktop\\Anaconda\\titanic\\test.csv')\n",
    "df_train.head()"
   ]
  },
  {
   "cell_type": "markdown",
   "metadata": {
    "id": "YxnpoAlh31EZ"
   },
   "source": [
    "This function is to create more features\n"
   ]
  },
  {
   "cell_type": "code",
   "execution_count": 25,
   "metadata": {
    "ExecuteTime": {
     "end_time": "2020-10-06T09:49:22.914033Z",
     "start_time": "2020-10-06T09:49:22.761179Z"
    },
    "id": "mWenldEi1JMV"
   },
   "outputs": [
    {
     "name": "stderr",
     "output_type": "stream",
     "text": [
      "C:\\Users\\jpravijo\\Anaconda3\\lib\\site-packages\\ipykernel_launcher.py:9: SettingWithCopyWarning: \n",
      "A value is trying to be set on a copy of a slice from a DataFrame\n",
      "\n",
      "See the caveats in the documentation: https://pandas.pydata.org/pandas-docs/stable/user_guide/indexing.html#returning-a-view-versus-a-copy\n",
      "  if __name__ == '__main__':\n"
     ]
    }
   ],
   "source": [
    "def titanic_pre(df):\n",
    "    df['Family_group'] = pd.cut(\n",
    "        df.SibSp, bins=[-1, 2, 4, 10], labels=['Small', 'Medium', 'Large'])\n",
    "    df['Parent_Count'] = pd.cut(\n",
    "        df.Parch, bins=[-1, 0.5, 1.5, 10], labels=['No_parent', 'single_parent', 'big_family'])\n",
    "    df.drop(['PassengerId', 'Cabin', 'Ticket'], axis=1, inplace=True)\n",
    "    for i in range(1, 4):\n",
    "        df.Fare[df.Pclass.eq(i)] = df.Fare[df.Pclass.eq(i)].replace(\n",
    "            0, df.Fare[df.Pclass.eq(i)].mean())\n",
    "    df.Name = df.Name.apply(lambda x: (x.split(',')[1]).split(' ')[1])\n",
    "    return df\n",
    "\n",
    "\n",
    "df_train = titanic_pre(df_train)\n",
    "df_test = titanic_pre(df_test)"
   ]
  },
  {
   "cell_type": "code",
   "execution_count": 26,
   "metadata": {
    "ExecuteTime": {
     "end_time": "2020-10-06T09:49:22.929562Z",
     "start_time": "2020-10-06T09:49:22.916045Z"
    },
    "id": "p6TR9SDN8GTE"
   },
   "outputs": [],
   "source": [
    "X_train = df_train.drop('Survived', axis=1)\n",
    "y_train = df_train.pop('Survived')\n",
    "X_test = df_test.drop(index=414)"
   ]
  },
  {
   "cell_type": "code",
   "execution_count": 27,
   "metadata": {
    "ExecuteTime": {
     "end_time": "2020-10-06T09:49:22.954128Z",
     "start_time": "2020-10-06T09:49:22.932068Z"
    },
    "id": "Ty64OzdIEtlO"
   },
   "outputs": [],
   "source": [
    "num = ['Age', 'Fare']\n",
    "cat = ['Pclass', 'Name', 'Embarked', 'Family_group', 'Parent_Count']"
   ]
  },
  {
   "cell_type": "markdown",
   "metadata": {
    "id": "gHu8hH7c4V1w"
   },
   "source": [
    "<b> Simple Pipeline for EDA </b>"
   ]
  },
  {
   "cell_type": "code",
   "execution_count": 28,
   "metadata": {
    "ExecuteTime": {
     "end_time": "2020-10-06T09:49:23.119543Z",
     "start_time": "2020-10-06T09:49:22.957678Z"
    },
    "colab": {
     "base_uri": "https://localhost:8080/",
     "height": 215
    },
    "id": "S0PKW-FBwl71",
    "outputId": "81532658-09c9-4c3e-de33-5c76f8e781eb"
   },
   "outputs": [
    {
     "data": {
      "text/html": [
       "<div>\n",
       "<style scoped>\n",
       "    .dataframe tbody tr th:only-of-type {\n",
       "        vertical-align: middle;\n",
       "    }\n",
       "\n",
       "    .dataframe tbody tr th {\n",
       "        vertical-align: top;\n",
       "    }\n",
       "\n",
       "    .dataframe thead th {\n",
       "        text-align: right;\n",
       "    }\n",
       "</style>\n",
       "<table border=\"1\" class=\"dataframe\">\n",
       "  <thead>\n",
       "    <tr style=\"text-align: right;\">\n",
       "      <th></th>\n",
       "      <th>Age</th>\n",
       "      <th>Fare</th>\n",
       "      <th>0</th>\n",
       "      <th>1</th>\n",
       "      <th>2</th>\n",
       "      <th>3</th>\n",
       "      <th>4</th>\n",
       "      <th>5</th>\n",
       "      <th>6</th>\n",
       "      <th>7</th>\n",
       "      <th>...</th>\n",
       "      <th>19</th>\n",
       "      <th>20</th>\n",
       "      <th>21</th>\n",
       "      <th>22</th>\n",
       "      <th>23</th>\n",
       "      <th>24</th>\n",
       "      <th>25</th>\n",
       "      <th>26</th>\n",
       "      <th>27</th>\n",
       "      <th>28</th>\n",
       "    </tr>\n",
       "  </thead>\n",
       "  <tbody>\n",
       "    <tr>\n",
       "      <th>0</th>\n",
       "      <td>-0.497793</td>\n",
       "      <td>-1.037291</td>\n",
       "      <td>0.0</td>\n",
       "      <td>0.0</td>\n",
       "      <td>1.0</td>\n",
       "      <td>0.0</td>\n",
       "      <td>0.0</td>\n",
       "      <td>0.0</td>\n",
       "      <td>0.0</td>\n",
       "      <td>0.0</td>\n",
       "      <td>...</td>\n",
       "      <td>0.0</td>\n",
       "      <td>0.0</td>\n",
       "      <td>0.0</td>\n",
       "      <td>1.0</td>\n",
       "      <td>0.0</td>\n",
       "      <td>0.0</td>\n",
       "      <td>1.0</td>\n",
       "      <td>1.0</td>\n",
       "      <td>0.0</td>\n",
       "      <td>0.0</td>\n",
       "    </tr>\n",
       "    <tr>\n",
       "      <th>1</th>\n",
       "      <td>0.715048</td>\n",
       "      <td>1.407298</td>\n",
       "      <td>1.0</td>\n",
       "      <td>0.0</td>\n",
       "      <td>0.0</td>\n",
       "      <td>0.0</td>\n",
       "      <td>0.0</td>\n",
       "      <td>0.0</td>\n",
       "      <td>0.0</td>\n",
       "      <td>0.0</td>\n",
       "      <td>...</td>\n",
       "      <td>0.0</td>\n",
       "      <td>1.0</td>\n",
       "      <td>0.0</td>\n",
       "      <td>0.0</td>\n",
       "      <td>0.0</td>\n",
       "      <td>0.0</td>\n",
       "      <td>1.0</td>\n",
       "      <td>1.0</td>\n",
       "      <td>0.0</td>\n",
       "      <td>0.0</td>\n",
       "    </tr>\n",
       "    <tr>\n",
       "      <th>2</th>\n",
       "      <td>-0.194583</td>\n",
       "      <td>-0.942080</td>\n",
       "      <td>0.0</td>\n",
       "      <td>0.0</td>\n",
       "      <td>1.0</td>\n",
       "      <td>0.0</td>\n",
       "      <td>0.0</td>\n",
       "      <td>0.0</td>\n",
       "      <td>0.0</td>\n",
       "      <td>0.0</td>\n",
       "      <td>...</td>\n",
       "      <td>0.0</td>\n",
       "      <td>0.0</td>\n",
       "      <td>0.0</td>\n",
       "      <td>1.0</td>\n",
       "      <td>0.0</td>\n",
       "      <td>0.0</td>\n",
       "      <td>1.0</td>\n",
       "      <td>1.0</td>\n",
       "      <td>0.0</td>\n",
       "      <td>0.0</td>\n",
       "    </tr>\n",
       "    <tr>\n",
       "      <th>3</th>\n",
       "      <td>0.487640</td>\n",
       "      <td>1.092336</td>\n",
       "      <td>1.0</td>\n",
       "      <td>0.0</td>\n",
       "      <td>0.0</td>\n",
       "      <td>0.0</td>\n",
       "      <td>0.0</td>\n",
       "      <td>0.0</td>\n",
       "      <td>0.0</td>\n",
       "      <td>0.0</td>\n",
       "      <td>...</td>\n",
       "      <td>0.0</td>\n",
       "      <td>0.0</td>\n",
       "      <td>0.0</td>\n",
       "      <td>1.0</td>\n",
       "      <td>0.0</td>\n",
       "      <td>0.0</td>\n",
       "      <td>1.0</td>\n",
       "      <td>1.0</td>\n",
       "      <td>0.0</td>\n",
       "      <td>0.0</td>\n",
       "    </tr>\n",
       "    <tr>\n",
       "      <th>4</th>\n",
       "      <td>0.487640</td>\n",
       "      <td>-0.925342</td>\n",
       "      <td>0.0</td>\n",
       "      <td>0.0</td>\n",
       "      <td>1.0</td>\n",
       "      <td>0.0</td>\n",
       "      <td>0.0</td>\n",
       "      <td>0.0</td>\n",
       "      <td>0.0</td>\n",
       "      <td>0.0</td>\n",
       "      <td>...</td>\n",
       "      <td>0.0</td>\n",
       "      <td>0.0</td>\n",
       "      <td>0.0</td>\n",
       "      <td>1.0</td>\n",
       "      <td>0.0</td>\n",
       "      <td>0.0</td>\n",
       "      <td>1.0</td>\n",
       "      <td>1.0</td>\n",
       "      <td>0.0</td>\n",
       "      <td>0.0</td>\n",
       "    </tr>\n",
       "  </tbody>\n",
       "</table>\n",
       "<p>5 rows × 31 columns</p>\n",
       "</div>"
      ],
      "text/plain": [
       "        Age      Fare    0    1    2    3    4    5    6    7  ...   19   20  \\\n",
       "0 -0.497793 -1.037291  0.0  0.0  1.0  0.0  0.0  0.0  0.0  0.0  ...  0.0  0.0   \n",
       "1  0.715048  1.407298  1.0  0.0  0.0  0.0  0.0  0.0  0.0  0.0  ...  0.0  1.0   \n",
       "2 -0.194583 -0.942080  0.0  0.0  1.0  0.0  0.0  0.0  0.0  0.0  ...  0.0  0.0   \n",
       "3  0.487640  1.092336  1.0  0.0  0.0  0.0  0.0  0.0  0.0  0.0  ...  0.0  0.0   \n",
       "4  0.487640 -0.925342  0.0  0.0  1.0  0.0  0.0  0.0  0.0  0.0  ...  0.0  0.0   \n",
       "\n",
       "    21   22   23   24   25   26   27   28  \n",
       "0  0.0  1.0  0.0  0.0  1.0  1.0  0.0  0.0  \n",
       "1  0.0  0.0  0.0  0.0  1.0  1.0  0.0  0.0  \n",
       "2  0.0  1.0  0.0  0.0  1.0  1.0  0.0  0.0  \n",
       "3  0.0  1.0  0.0  0.0  1.0  1.0  0.0  0.0  \n",
       "4  0.0  1.0  0.0  0.0  1.0  1.0  0.0  0.0  \n",
       "\n",
       "[5 rows x 31 columns]"
      ]
     },
     "execution_count": 28,
     "metadata": {},
     "output_type": "execute_result"
    }
   ],
   "source": [
    "pipeline = make_pipeline(\n",
    "    make_pipeline(\n",
    "        make_column_transformerz(SimpleImputer(\n",
    "            strategy='most_frequent'), ['Embarked']),\n",
    "        make_column_transformerz(SimpleImputer(\n",
    "            strategy='most_frequent'), ['Fare']),\n",
    "        make_column_transformerz(SimpleImputer(\n",
    "            strategy='most_frequent'), ['Age']),\n",
    "        make_column_transformerz(FunctionTransformer(np.log), ['Fare']),\n",
    "    ),\n",
    "    DFFeatureUnion([\n",
    "        make_pipeline(\n",
    "            columnseparater(num),\n",
    "            standardscaler()\n",
    "        ),\n",
    "        make_pipeline(\n",
    "            columnseparater(cat),\n",
    "            categorical_data()\n",
    "        )\n",
    "    ])\n",
    ")\n",
    "\n",
    "X_train = pipeline.fit_transform(X_train)\n",
    "X_train.head()"
   ]
  },
  {
   "cell_type": "code",
   "execution_count": 29,
   "metadata": {
    "ExecuteTime": {
     "end_time": "2020-10-06T09:49:23.237821Z",
     "start_time": "2020-10-06T09:49:23.123058Z"
    },
    "colab": {
     "base_uri": "https://localhost:8080/",
     "height": 215
    },
    "id": "rBj7pIik4AMP",
    "outputId": "6425543a-8ab7-42d5-f022-d30b29c94988"
   },
   "outputs": [
    {
     "data": {
      "text/html": [
       "<div>\n",
       "<style scoped>\n",
       "    .dataframe tbody tr th:only-of-type {\n",
       "        vertical-align: middle;\n",
       "    }\n",
       "\n",
       "    .dataframe tbody tr th {\n",
       "        vertical-align: top;\n",
       "    }\n",
       "\n",
       "    .dataframe thead th {\n",
       "        text-align: right;\n",
       "    }\n",
       "</style>\n",
       "<table border=\"1\" class=\"dataframe\">\n",
       "  <thead>\n",
       "    <tr style=\"text-align: right;\">\n",
       "      <th></th>\n",
       "      <th>Age</th>\n",
       "      <th>Fare</th>\n",
       "      <th>0</th>\n",
       "      <th>1</th>\n",
       "      <th>2</th>\n",
       "      <th>3</th>\n",
       "      <th>4</th>\n",
       "      <th>5</th>\n",
       "      <th>6</th>\n",
       "      <th>7</th>\n",
       "      <th>...</th>\n",
       "      <th>19</th>\n",
       "      <th>20</th>\n",
       "      <th>21</th>\n",
       "      <th>22</th>\n",
       "      <th>23</th>\n",
       "      <th>24</th>\n",
       "      <th>25</th>\n",
       "      <th>26</th>\n",
       "      <th>27</th>\n",
       "      <th>28</th>\n",
       "    </tr>\n",
       "  </thead>\n",
       "  <tbody>\n",
       "    <tr>\n",
       "      <th>0</th>\n",
       "      <td>0.449739</td>\n",
       "      <td>-0.955088</td>\n",
       "      <td>0.0</td>\n",
       "      <td>0.0</td>\n",
       "      <td>1.0</td>\n",
       "      <td>0.0</td>\n",
       "      <td>0.0</td>\n",
       "      <td>0.0</td>\n",
       "      <td>0.0</td>\n",
       "      <td>0.0</td>\n",
       "      <td>...</td>\n",
       "      <td>0.0</td>\n",
       "      <td>0.0</td>\n",
       "      <td>1.0</td>\n",
       "      <td>0.0</td>\n",
       "      <td>0.0</td>\n",
       "      <td>0.0</td>\n",
       "      <td>1.0</td>\n",
       "      <td>1.0</td>\n",
       "      <td>0.0</td>\n",
       "      <td>0.0</td>\n",
       "    </tr>\n",
       "    <tr>\n",
       "      <th>1</th>\n",
       "      <td>1.397271</td>\n",
       "      <td>-1.074822</td>\n",
       "      <td>0.0</td>\n",
       "      <td>0.0</td>\n",
       "      <td>1.0</td>\n",
       "      <td>0.0</td>\n",
       "      <td>0.0</td>\n",
       "      <td>0.0</td>\n",
       "      <td>0.0</td>\n",
       "      <td>0.0</td>\n",
       "      <td>...</td>\n",
       "      <td>0.0</td>\n",
       "      <td>0.0</td>\n",
       "      <td>0.0</td>\n",
       "      <td>1.0</td>\n",
       "      <td>0.0</td>\n",
       "      <td>0.0</td>\n",
       "      <td>1.0</td>\n",
       "      <td>1.0</td>\n",
       "      <td>0.0</td>\n",
       "      <td>0.0</td>\n",
       "    </tr>\n",
       "    <tr>\n",
       "      <th>2</th>\n",
       "      <td>2.534310</td>\n",
       "      <td>-0.727303</td>\n",
       "      <td>0.0</td>\n",
       "      <td>1.0</td>\n",
       "      <td>0.0</td>\n",
       "      <td>0.0</td>\n",
       "      <td>0.0</td>\n",
       "      <td>0.0</td>\n",
       "      <td>0.0</td>\n",
       "      <td>0.0</td>\n",
       "      <td>...</td>\n",
       "      <td>0.0</td>\n",
       "      <td>0.0</td>\n",
       "      <td>1.0</td>\n",
       "      <td>0.0</td>\n",
       "      <td>0.0</td>\n",
       "      <td>0.0</td>\n",
       "      <td>1.0</td>\n",
       "      <td>1.0</td>\n",
       "      <td>0.0</td>\n",
       "      <td>0.0</td>\n",
       "    </tr>\n",
       "    <tr>\n",
       "      <th>3</th>\n",
       "      <td>-0.118780</td>\n",
       "      <td>-0.846912</td>\n",
       "      <td>0.0</td>\n",
       "      <td>0.0</td>\n",
       "      <td>1.0</td>\n",
       "      <td>0.0</td>\n",
       "      <td>0.0</td>\n",
       "      <td>0.0</td>\n",
       "      <td>0.0</td>\n",
       "      <td>0.0</td>\n",
       "      <td>...</td>\n",
       "      <td>0.0</td>\n",
       "      <td>0.0</td>\n",
       "      <td>0.0</td>\n",
       "      <td>1.0</td>\n",
       "      <td>0.0</td>\n",
       "      <td>0.0</td>\n",
       "      <td>1.0</td>\n",
       "      <td>1.0</td>\n",
       "      <td>0.0</td>\n",
       "      <td>0.0</td>\n",
       "    </tr>\n",
       "    <tr>\n",
       "      <th>4</th>\n",
       "      <td>-0.497793</td>\n",
       "      <td>-0.473026</td>\n",
       "      <td>0.0</td>\n",
       "      <td>0.0</td>\n",
       "      <td>1.0</td>\n",
       "      <td>0.0</td>\n",
       "      <td>0.0</td>\n",
       "      <td>0.0</td>\n",
       "      <td>0.0</td>\n",
       "      <td>0.0</td>\n",
       "      <td>...</td>\n",
       "      <td>0.0</td>\n",
       "      <td>0.0</td>\n",
       "      <td>0.0</td>\n",
       "      <td>1.0</td>\n",
       "      <td>0.0</td>\n",
       "      <td>0.0</td>\n",
       "      <td>1.0</td>\n",
       "      <td>0.0</td>\n",
       "      <td>0.0</td>\n",
       "      <td>1.0</td>\n",
       "    </tr>\n",
       "  </tbody>\n",
       "</table>\n",
       "<p>5 rows × 31 columns</p>\n",
       "</div>"
      ],
      "text/plain": [
       "        Age      Fare    0    1    2    3    4    5    6    7  ...   19   20  \\\n",
       "0  0.449739 -0.955088  0.0  0.0  1.0  0.0  0.0  0.0  0.0  0.0  ...  0.0  0.0   \n",
       "1  1.397271 -1.074822  0.0  0.0  1.0  0.0  0.0  0.0  0.0  0.0  ...  0.0  0.0   \n",
       "2  2.534310 -0.727303  0.0  1.0  0.0  0.0  0.0  0.0  0.0  0.0  ...  0.0  0.0   \n",
       "3 -0.118780 -0.846912  0.0  0.0  1.0  0.0  0.0  0.0  0.0  0.0  ...  0.0  0.0   \n",
       "4 -0.497793 -0.473026  0.0  0.0  1.0  0.0  0.0  0.0  0.0  0.0  ...  0.0  0.0   \n",
       "\n",
       "    21   22   23   24   25   26   27   28  \n",
       "0  1.0  0.0  0.0  0.0  1.0  1.0  0.0  0.0  \n",
       "1  0.0  1.0  0.0  0.0  1.0  1.0  0.0  0.0  \n",
       "2  1.0  0.0  0.0  0.0  1.0  1.0  0.0  0.0  \n",
       "3  0.0  1.0  0.0  0.0  1.0  1.0  0.0  0.0  \n",
       "4  0.0  1.0  0.0  0.0  1.0  0.0  0.0  1.0  \n",
       "\n",
       "[5 rows x 31 columns]"
      ]
     },
     "execution_count": 29,
     "metadata": {},
     "output_type": "execute_result"
    }
   ],
   "source": [
    "X_test = pipeline.transform(X_test)\n",
    "X_test.head()"
   ]
  },
  {
   "cell_type": "markdown",
   "metadata": {
    "id": "hADEwr5In_MN"
   },
   "source": [
    "<b style=\"font-size:1vw\"> PCA </b>"
   ]
  },
  {
   "cell_type": "markdown",
   "metadata": {
    "id": "6NfvKSdH6toZ"
   },
   "source": [
    "Hardcoding the PCA"
   ]
  },
  {
   "cell_type": "code",
   "execution_count": 30,
   "metadata": {
    "ExecuteTime": {
     "end_time": "2020-10-06T09:49:23.252877Z",
     "start_time": "2020-10-06T09:49:23.244166Z"
    }
   },
   "outputs": [
    {
     "data": {
      "text/plain": [
       "' \\ndef pca_function(X, k=2):\\n  sigma = np.dot(X.T, X)/X.shape[0]\\n  U, S, V = np.linalg.svd(sigma)\\n  u_reduce=U[:, :k]\\n  Z = np.dot(X, u_reduce)\\n  return Z, S, V\\nZ, S, V= pca_function(x_train, k=2)\\n\\nfigure, ax = plt.subplots(1,1, figsize=(8,6))\\nax1=plt.scatter(Z[:, 1], Z[:,0])\\n'"
      ]
     },
     "execution_count": 30,
     "metadata": {},
     "output_type": "execute_result"
    }
   ],
   "source": [
    "''' \n",
    "def pca_function(X, k=2):\n",
    "  sigma = np.dot(X.T, X)/X.shape[0]\n",
    "  U, S, V = np.linalg.svd(sigma)\n",
    "  u_reduce=U[:, :k]\n",
    "  Z = np.dot(X, u_reduce)\n",
    "  return Z, S, V\n",
    "Z, S, V= pca_function(x_train, k=2)\n",
    "\n",
    "figure, ax = plt.subplots(1,1, figsize=(8,6))\n",
    "ax1=plt.scatter(Z[:, 1], Z[:,0])\n",
    "'''"
   ]
  },
  {
   "cell_type": "markdown",
   "metadata": {
    "id": "z0f98JVn6weT"
   },
   "source": [
    "Sklearn PCA Function"
   ]
  },
  {
   "cell_type": "code",
   "execution_count": 31,
   "metadata": {
    "ExecuteTime": {
     "end_time": "2020-10-06T09:49:23.285139Z",
     "start_time": "2020-10-06T09:49:23.262524Z"
    },
    "colab": {
     "base_uri": "https://localhost:8080/",
     "height": 50
    },
    "id": "DU5tEIDIBOtj",
    "outputId": "224d4579-1b4a-4e16-e7b5-852a3c211353"
   },
   "outputs": [
    {
     "data": {
      "text/plain": [
       "PCA(copy=True, iterated_power='auto', n_components=2, random_state=None,\n",
       "    svd_solver='auto', tol=0.0, whiten=False)"
      ]
     },
     "execution_count": 31,
     "metadata": {},
     "output_type": "execute_result"
    }
   ],
   "source": [
    "pca = PCA(n_components=2)\n",
    "pca.fit(X_train)"
   ]
  },
  {
   "cell_type": "code",
   "execution_count": 32,
   "metadata": {
    "ExecuteTime": {
     "end_time": "2020-10-06T09:49:23.301394Z",
     "start_time": "2020-10-06T09:49:23.287170Z"
    },
    "colab": {
     "base_uri": "https://localhost:8080/",
     "height": 34
    },
    "id": "tIImMEJsFu6f",
    "outputId": "830c789c-15af-461d-eef0-5b4744e165d5"
   },
   "outputs": [
    {
     "name": "stdout",
     "output_type": "stream",
     "text": [
      "[35.41610448 30.15973032]\n"
     ]
    }
   ],
   "source": [
    "print(pca.singular_values_)\n",
    "# print(sum(pca.explained_variance_))"
   ]
  },
  {
   "cell_type": "code",
   "execution_count": 33,
   "metadata": {
    "ExecuteTime": {
     "end_time": "2020-10-06T09:49:23.317555Z",
     "start_time": "2020-10-06T09:49:23.305838Z"
    },
    "colab": {
     "base_uri": "https://localhost:8080/",
     "height": 134
    },
    "id": "dppGVqWwLGia",
    "outputId": "4d7ea50a-f8f1-4049-a302-d09c04e8eb95"
   },
   "outputs": [
    {
     "name": "stdout",
     "output_type": "stream",
     "text": [
      "[[-1.32251817  0.28606071]\n",
      " [ 1.98241138 -0.13349767]\n",
      " [-1.02745453  0.10607361]\n",
      " ...\n",
      " [-0.11546436 -0.84862418]\n",
      " [ 0.68925243 -0.24728835]\n",
      " [-0.92878967  0.82197548]]\n"
     ]
    }
   ],
   "source": [
    "print(pca.transform(X_train))"
   ]
  },
  {
   "cell_type": "code",
   "execution_count": 34,
   "metadata": {
    "ExecuteTime": {
     "end_time": "2020-10-06T09:49:23.633606Z",
     "start_time": "2020-10-06T09:49:23.322052Z"
    },
    "colab": {
     "base_uri": "https://localhost:8080/",
     "height": 407
    },
    "id": "31-jDj6jKfPm",
    "outputId": "eca21ea5-3fc5-4976-ed15-a3518a5dbb78"
   },
   "outputs": [
    {
     "data": {
      "text/plain": [
       "Text(0, 0.5, 'principle component 2')"
      ]
     },
     "execution_count": 34,
     "metadata": {},
     "output_type": "execute_result"
    },
    {
     "data": {
      "image/png": "[encoded data removed]",
      "text/plain": [
       "<Figure size 576x432 with 1 Axes>"
      ]
     },
     "metadata": {
      "needs_background": "light"
     },
     "output_type": "display_data"
    }
   ],
   "source": [
    "trans_df1 = pca.transform(X_train)\n",
    "# inverse=pca.inverse_transform(trans_df1)\n",
    "figure, ax = plt.subplots(1, 1, figsize=(8, 6))\n",
    "ax1 = plt.scatter(trans_df1[:, 0], trans_df1[:, 1])\n",
    "plt.title(\"Scatter Plot\")\n",
    "plt.xlabel(\"principle component 1\")\n",
    "plt.ylabel(\"principle component 2\")"
   ]
  },
  {
   "cell_type": "markdown",
   "metadata": {},
   "source": [
    "**Conclusion from PCA:** \n",
    "    we explored the possibility of feature distribution using PCA but since there was not much distinct distribution across features, we decided not to use feature selection."
   ]
  },
  {
   "cell_type": "markdown",
   "metadata": {
    "id": "7eVEffztwzF-"
   },
   "source": [
    "<b style=\"font-size:1vw\"> Learning Curve </b>"
   ]
  },
  {
   "cell_type": "code",
   "execution_count": 35,
   "metadata": {
    "ExecuteTime": {
     "end_time": "2020-10-06T09:49:23.649466Z",
     "start_time": "2020-10-06T09:49:23.637611Z"
    },
    "id": "DInWilHKirIp"
   },
   "outputs": [],
   "source": [
    "def learn_curve(estimator, X, y, train_sizes, cv=3, scoring='f1'):\n",
    "    X_size, X_train_score, X_valid_score = learning_curve(\n",
    "        estimator=estimator, X=X, y=y, train_sizes=train_sizes, cv=3, scoring='f1')\n",
    "    X_train_score = X_train_score.mean(axis=1)\n",
    "    X_valid_score = X_valid_score.mean(axis=1)\n",
    "    return X_size, X_train_score, X_valid_score"
   ]
  },
  {
   "cell_type": "code",
   "execution_count": 36,
   "metadata": {
    "ExecuteTime": {
     "end_time": "2020-10-06T09:49:25.198387Z",
     "start_time": "2020-10-06T09:49:23.651458Z"
    },
    "id": "_sf6_25vl-in"
   },
   "outputs": [],
   "source": [
    "train_sizes = [50, 70, 90, 100, 120, 150, 200, 210, 220, 240, 260,\n",
    "               300, 320, 350, 375,  400, 425, 450, 475, 500, 510, 525, 550]\n",
    "estimator = LogisticRegression(C=0.09, max_iter=5000)\n",
    "X_size, X_train_score, X_valid_score = learn_curve(\n",
    "    estimator, X_train, y_train, train_sizes)"
   ]
  },
  {
   "cell_type": "code",
   "execution_count": 37,
   "metadata": {
    "ExecuteTime": {
     "end_time": "2020-10-06T09:49:25.624981Z",
     "start_time": "2020-10-06T09:49:25.202882Z"
    },
    "colab": {
     "base_uri": "https://localhost:8080/",
     "height": 530
    },
    "id": "nsKTlAX3o7xo",
    "outputId": "5ac5f2a8-1d78-488b-f510-a21f0d680408"
   },
   "outputs": [
    {
     "data": {
      "text/plain": [
       "Text(0.5, 1.0, 'Curve comparision')"
      ]
     },
     "execution_count": 37,
     "metadata": {},
     "output_type": "execute_result"
    },
    {
     "data": {
      "image/png": "[encoded data removed]",
      "text/plain": [
       "<Figure size 1152x576 with 1 Axes>"
      ]
     },
     "metadata": {
      "needs_background": "light"
     },
     "output_type": "display_data"
    }
   ],
   "source": [
    "fig, ax = plt.subplots(1, 1, figsize=(16, 8))\n",
    "ax.plot(X_size, X_train_score)\n",
    "ax.plot(X_size, X_valid_score)\n",
    "plt.xlabel(\"n_iteration\")\n",
    "plt.ylabel(\"accuracy_score\")\n",
    "plt.title(\"Curve comparision\")"
   ]
  },
  {
   "cell_type": "markdown",
   "metadata": {
    "id": "fR86-vhWw69p"
   },
   "source": [
    "<b style=\"font-size:1vw\"> GridSearchCV </b>"
   ]
  },
  {
   "cell_type": "code",
   "execution_count": 38,
   "metadata": {
    "ExecuteTime": {
     "end_time": "2020-10-06T09:49:25.641317Z",
     "start_time": "2020-10-06T09:49:25.629979Z"
    },
    "id": "ut28Voichtue"
   },
   "outputs": [],
   "source": [
    "def gridsearcher(estimator, parameters, X, y):\n",
    "    clf = GridSearchCV(estimator=estimator, param_grid=parameters, cv=10)\n",
    "    clf.fit(X, y)\n",
    "    return clf.best_params_, clf.best_estimator_, clf.cv_results_, clf.best_score_"
   ]
  },
  {
   "cell_type": "code",
   "execution_count": 39,
   "metadata": {
    "ExecuteTime": {
     "end_time": "2020-10-06T09:49:42.772578Z",
     "start_time": "2020-10-06T09:49:25.645474Z"
    },
    "colab": {
     "base_uri": "https://localhost:8080/",
     "height": 370
    },
    "id": "iHc7eH7JOI-E",
    "outputId": "2306648f-0ecb-444a-ed9e-b456a3f741a9",
    "scrolled": true
   },
   "outputs": [
    {
     "name": "stdout",
     "output_type": "stream",
     "text": [
      " Best Parameters = {'C': 0.1, 'solver': 'newton-cg'}, \n",
      " Best Estimator = LogisticRegression(C=0.1, class_weight=None, dual=False, fit_intercept=True,\n",
      "                   intercept_scaling=1, l1_ratio=None, max_iter=100,\n",
      "                   multi_class='auto', n_jobs=None, penalty='l2',\n",
      "                   random_state=None, solver='newton-cg', tol=0.0001, verbose=0,\n",
      "                   warm_start=False), \n",
      " Best_score= 0.823832709113608 \n",
      "\n",
      " Best Parameters = {'C': 1, 'kernel': 'rbf'}, \n",
      " Best Estimator = SVC(C=1, break_ties=False, cache_size=200, class_weight=None, coef0=0.0,\n",
      "    decision_function_shape='ovr', degree=3, gamma='scale', kernel='rbf',\n",
      "    max_iter=-1, probability=False, random_state=None, shrinking=True,\n",
      "    tol=0.001, verbose=False), \n",
      " Best_score= 0.823832709113608 \n",
      "\n",
      " Best Parameters = {'metric': 'minkowski', 'n_neighbors': 25}, \n",
      " Best Estimator = KNeighborsClassifier(algorithm='auto', leaf_size=30, metric='minkowski',\n",
      "                     metric_params=None, n_jobs=None, n_neighbors=25, p=2,\n",
      "                     weights='uniform'), \n",
      " Best_score= 0.8148439450686642 \n",
      "\n"
     ]
    }
   ],
   "source": [
    "all_estimator = [\n",
    "    LogisticRegression(),\n",
    "    SVC(),\n",
    "    KNeighborsClassifier()\n",
    "]\n",
    "all_parameters = [\n",
    "    {'C': [0.01, 0.1, 0.3, 0.5, 1, 10, 100],\n",
    "        'solver':['newton-cg', 'liblinear']},\n",
    "    {'C': [0.1, 1, 10, 20, 30, 100], 'kernel':['linear', 'rbf']},\n",
    "    {'n_neighbors': [25, 50, 75, 100, 125, 150],\n",
    "     'metric':['minkowski', 'euclidean']}\n",
    "]\n",
    "for estimator, parameters in zip(all_estimator, all_parameters):\n",
    "    best_params, best_estimator, score, best_score = gridsearcher(\n",
    "        estimator, parameters, X_train, y_train)\n",
    "    print(\n",
    "        f' Best Parameters = {best_params}, \\n Best Estimator = {best_estimator}, \\n Best_score= {best_score} \\n')\n",
    "    # for mean_score, params in zip(score['mean_test_score'], score['params']):\n",
    "    #print(mean_score, params)"
   ]
  },
  {
   "cell_type": "markdown",
   "metadata": {
    "id": "084Zxi4F-jqf"
   },
   "source": [
    "<b style=\"font-size:1vw\"> Splitting the data into train and test data </b>"
   ]
  },
  {
   "cell_type": "code",
   "execution_count": 40,
   "metadata": {
    "ExecuteTime": {
     "end_time": "2020-10-06T09:49:42.790136Z",
     "start_time": "2020-10-06T09:49:42.777569Z"
    },
    "id": "xFRsXjlB-jGO"
   },
   "outputs": [],
   "source": [
    "X_train, X_test, y_train, y_test = train_test_split(X_train, y_train, test_size=0.2)"
   ]
  },
  {
   "cell_type": "markdown",
   "metadata": {},
   "source": [
    "<b style=\"font-size:2vw\"> ML Algorithms </b>"
   ]
  },
  {
   "cell_type": "markdown",
   "metadata": {
    "id": "l3hGBkCi7WI9"
   },
   "source": [
    "<b > Logistic Regression </b>"
   ]
  },
  {
   "cell_type": "code",
   "execution_count": 41,
   "metadata": {
    "ExecuteTime": {
     "end_time": "2020-10-06T09:49:42.874998Z",
     "start_time": "2020-10-06T09:49:42.793172Z"
    },
    "colab": {
     "base_uri": "https://localhost:8080/",
     "height": 101
    },
    "id": "3NGtjFVl7VhW",
    "outputId": "ccc6ee91-213c-49f9-be48-4c9760ebcdab"
   },
   "outputs": [
    {
     "data": {
      "text/plain": [
       "LogisticRegression(C=0.1, class_weight=None, dual=False, fit_intercept=True,\n",
       "                   intercept_scaling=1, l1_ratio=None, max_iter=100,\n",
       "                   multi_class='auto', n_jobs=None, penalty='l2',\n",
       "                   random_state=None, solver='newton-cg', tol=0.0001, verbose=0,\n",
       "                   warm_start=False)"
      ]
     },
     "execution_count": 41,
     "metadata": {},
     "output_type": "execute_result"
    }
   ],
   "source": [
    "lr = LogisticRegression(\n",
    "    C=0.1, class_weight=None, dual=False, fit_intercept=True,\n",
    "    intercept_scaling=1, l1_ratio=None, max_iter=100,\n",
    "    multi_class='auto', n_jobs=None, penalty='l2',\n",
    "    random_state=None, solver='newton-cg', tol=0.0001, verbose=0,\n",
    "    warm_start=False\n",
    ")\n",
    "\n",
    "lr.fit(X_train, y_train)"
   ]
  },
  {
   "cell_type": "code",
   "execution_count": 42,
   "metadata": {
    "ExecuteTime": {
     "end_time": "2020-10-06T09:49:42.897685Z",
     "start_time": "2020-10-06T09:49:42.879006Z"
    },
    "colab": {
     "base_uri": "https://localhost:8080/",
     "height": 34
    },
    "id": "6XH7mcGS8aY4",
    "outputId": "88f94e7d-77da-4ed9-ca8a-38c7e6f9088f"
   },
   "outputs": [
    {
     "name": "stdout",
     "output_type": "stream",
     "text": [
      "Train Accuracy = 0.8300561797752809\n",
      "Test Accuracy = 0.8156424581005587\n"
     ]
    }
   ],
   "source": [
    "print('Train Accuracy = ' + str(lr.score(X_train, y_train)))\n",
    "print('Test Accuracy = ' + str(lr.score(X_test, y_test)))"
   ]
  },
  {
   "cell_type": "code",
   "execution_count": 43,
   "metadata": {
    "ExecuteTime": {
     "end_time": "2020-10-06T09:49:42.933277Z",
     "start_time": "2020-10-06T09:49:42.902604Z"
    },
    "colab": {
     "base_uri": "https://localhost:8080/",
     "height": 50
    },
    "id": "PEdzS7Br8jB2",
    "outputId": "a2bdad70-a34a-43f2-c06e-0d750b29c1b0",
    "scrolled": true
   },
   "outputs": [
    {
     "name": "stdout",
     "output_type": "stream",
     "text": [
      "F1 score = 0.7625899280575539\n",
      "Roc_Area under the curve =0.8001405212059274\n"
     ]
    }
   ],
   "source": [
    "pre = lr.predict(X_test)\n",
    "print('F1 score = ' + str(f1_score(y_test, pre)))\n",
    "print('Roc_Area under the curve =' + str(roc_auc_score(y_test, pre)))"
   ]
  },
  {
   "cell_type": "markdown",
   "metadata": {
    "id": "W6Q7Xl2g8uKH"
   },
   "source": [
    "<b > SVM </b>"
   ]
  },
  {
   "cell_type": "code",
   "execution_count": 44,
   "metadata": {
    "ExecuteTime": {
     "end_time": "2020-10-06T09:49:42.991520Z",
     "start_time": "2020-10-06T09:49:42.936773Z"
    },
    "colab": {
     "base_uri": "https://localhost:8080/",
     "height": 84
    },
    "id": "yajo25No8tb7",
    "outputId": "a6dcd8b4-d852-46e7-892a-a162fb88d43d"
   },
   "outputs": [
    {
     "data": {
      "text/plain": [
       "SVC(C=1, break_ties=False, cache_size=200, class_weight=None, coef0=0.0,\n",
       "    decision_function_shape='ovr', degree=3, gamma='scale', kernel='rbf',\n",
       "    max_iter=-1, probability=False, random_state=None, shrinking=True,\n",
       "    tol=0.001, verbose=False)"
      ]
     },
     "execution_count": 44,
     "metadata": {},
     "output_type": "execute_result"
    }
   ],
   "source": [
    "svm = SVC(\n",
    "    C=1, break_ties=False, cache_size=200, class_weight=None, coef0=0.0,\n",
    "    decision_function_shape='ovr', degree=3, gamma='scale', kernel='rbf',\n",
    "    max_iter=-1, probability=False, random_state=None, shrinking=True,\n",
    "    tol=0.001, verbose=False\n",
    ")\n",
    "svm.fit(X_train, y_train)"
   ]
  },
  {
   "cell_type": "code",
   "execution_count": 45,
   "metadata": {
    "ExecuteTime": {
     "end_time": "2020-10-06T09:49:43.041499Z",
     "start_time": "2020-10-06T09:49:43.001024Z"
    },
    "colab": {
     "base_uri": "https://localhost:8080/",
     "height": 34
    },
    "id": "qt5_7lIG83S0",
    "outputId": "330fb8c4-f7de-477b-97ff-b128882f09ce"
   },
   "outputs": [
    {
     "name": "stdout",
     "output_type": "stream",
     "text": [
      "Train Accuracy = 0.8455056179775281\n",
      "Test Accuracy = 0.8324022346368715\n"
     ]
    }
   ],
   "source": [
    "print('Train Accuracy = ' + str(svm.score(X_train, y_train)))\n",
    "print('Test Accuracy = ' + str(svm.score(X_test, y_test)))"
   ]
  },
  {
   "cell_type": "code",
   "execution_count": 46,
   "metadata": {
    "ExecuteTime": {
     "end_time": "2020-10-06T09:49:43.070146Z",
     "start_time": "2020-10-06T09:49:43.045892Z"
    },
    "colab": {
     "base_uri": "https://localhost:8080/",
     "height": 50
    },
    "id": "wvcrV9Zr85re",
    "outputId": "e1d23a81-77e5-4e78-8217-01b80e95ae85"
   },
   "outputs": [
    {
     "name": "stdout",
     "output_type": "stream",
     "text": [
      "F1 score = 0.7761194029850746\n",
      "Roc_Area under the curve =0.8129790495656617\n"
     ]
    }
   ],
   "source": [
    "pre = svm.predict(X_test)\n",
    "print('F1 score = ' + str(f1_score(y_test, pre)))\n",
    "print('Roc_Area under the curve =' + str(roc_auc_score(y_test, pre)))"
   ]
  },
  {
   "cell_type": "markdown",
   "metadata": {
    "id": "vw04ECe_xGLa"
   },
   "source": [
    "<b > Decision Tree </b>"
   ]
  },
  {
   "cell_type": "code",
   "execution_count": 47,
   "metadata": {
    "ExecuteTime": {
     "end_time": "2020-10-06T09:49:43.092575Z",
     "start_time": "2020-10-06T09:49:43.073508Z"
    },
    "colab": {
     "base_uri": "https://localhost:8080/",
     "height": 118
    },
    "id": "QMsD_L2lxCwZ",
    "outputId": "213a7d2b-dd07-486c-a16d-1c257122f9a3"
   },
   "outputs": [
    {
     "data": {
      "text/plain": [
       "DecisionTreeClassifier(ccp_alpha=0.0, class_weight=None, criterion='gini',\n",
       "                       max_depth=10, max_features=None, max_leaf_nodes=None,\n",
       "                       min_impurity_decrease=0.0, min_impurity_split=None,\n",
       "                       min_samples_leaf=5, min_samples_split=2,\n",
       "                       min_weight_fraction_leaf=0.0, presort='deprecated',\n",
       "                       random_state=None, splitter='best')"
      ]
     },
     "execution_count": 47,
     "metadata": {},
     "output_type": "execute_result"
    }
   ],
   "source": [
    "dtc = DecisionTreeClassifier(max_depth=10, min_samples_leaf=5)\n",
    "dtc.fit(X_train, y_train)"
   ]
  },
  {
   "cell_type": "code",
   "execution_count": 48,
   "metadata": {
    "ExecuteTime": {
     "end_time": "2020-10-06T09:49:43.108657Z",
     "start_time": "2020-10-06T09:49:43.095576Z"
    },
    "colab": {
     "base_uri": "https://localhost:8080/",
     "height": 34
    },
    "id": "VMdVK78R8eJ6",
    "outputId": "a9583076-7a02-4d36-defe-f1ce74acd1c8"
   },
   "outputs": [
    {
     "name": "stdout",
     "output_type": "stream",
     "text": [
      "Train Accuracy = 0.8806179775280899\n",
      "Test Accuracy = 0.8435754189944135\n"
     ]
    }
   ],
   "source": [
    "print('Train Accuracy = ' + str(dtc.score(X_train, y_train)))\n",
    "print('Test Accuracy = ' + str(dtc.score(X_test, y_test)))"
   ]
  },
  {
   "cell_type": "code",
   "execution_count": 49,
   "metadata": {
    "ExecuteTime": {
     "end_time": "2020-10-06T09:49:43.125254Z",
     "start_time": "2020-10-06T09:49:43.111656Z"
    },
    "colab": {
     "base_uri": "https://localhost:8080/",
     "height": 50
    },
    "id": "qP5UtNjp5P3e",
    "outputId": "6dacefb9-784d-45ff-c14c-fe3fb770cca2"
   },
   "outputs": [
    {
     "name": "stdout",
     "output_type": "stream",
     "text": [
      "F1 score = 0.7999999999999999\n",
      "Roc_Area under the curve =0.8295861011752683\n"
     ]
    }
   ],
   "source": [
    "pre = dtc.predict(X_test)\n",
    "print('F1 score = ' + str(f1_score(y_test, pre)))\n",
    "print('Roc_Area under the curve =' + str(roc_auc_score(y_test, pre)))"
   ]
  },
  {
   "cell_type": "code",
   "execution_count": 50,
   "metadata": {
    "ExecuteTime": {
     "end_time": "2020-10-06T09:49:43.402185Z",
     "start_time": "2020-10-06T09:49:43.128855Z"
    },
    "colab": {
     "base_uri": "https://localhost:8080/",
     "height": 295
    },
    "id": "GwpNn3kA7Dk_",
    "outputId": "92f95cad-c3b8-4105-e971-5af45915ddb1"
   },
   "outputs": [
    {
     "data": {
      "image/png": "[encoded data removed]",
      "text/plain": [
       "<Figure size 432x288 with 1 Axes>"
      ]
     },
     "metadata": {
      "needs_background": "light"
     },
     "output_type": "display_data"
    }
   ],
   "source": [
    "fpr, tpr, thresholds = roc_curve(pre, y_test)\n",
    "def plot_roc_curve(fpr, tpr, label=None):\n",
    "    plt.plot(fpr, tpr, linewidth=2, label=label)\n",
    "    plt.plot([0, 1], [0, 1], 'k--')\n",
    "    plt.axis([0, 1, 0, 1])\n",
    "    plt.title(\"ROC curve\")\n",
    "    plt.xlabel('False Positive Rate')\n",
    "    plt.ylabel('True Positive Rate')\n",
    "\n",
    "\n",
    "plot_roc_curve(fpr, tpr)\n",
    "plt.show()"
   ]
  },
  {
   "cell_type": "markdown",
   "metadata": {},
   "source": [
    "<b style=\"font-size:2vw\"> Ensemble ML Technique </b>"
   ]
  },
  {
   "cell_type": "markdown",
   "metadata": {
    "id": "tRKJ64f4ZtIn"
   },
   "source": [
    "<b > voting classifier:  </b> \n",
    "Hard Voting"
   ]
  },
  {
   "cell_type": "code",
   "execution_count": 51,
   "metadata": {
    "ExecuteTime": {
     "end_time": "2020-10-06T09:49:43.435062Z",
     "start_time": "2020-10-06T09:49:43.411270Z"
    },
    "id": "OYqMbRvmZqL9"
   },
   "outputs": [],
   "source": [
    "clf1 = LogisticRegression(\n",
    "    C=0.5, class_weight=None, dual=False, fit_intercept=True,\n",
    "    intercept_scaling=1, l1_ratio=None, max_iter=100,\n",
    "    multi_class='auto', n_jobs=None, penalty='l2',\n",
    "    random_state=None, solver='liblinear', tol=0.0001, verbose=0,\n",
    "    warm_start=False\n",
    ")\n",
    "clf2 = SVC(\n",
    "    C=10, break_ties=False, cache_size=200, class_weight=None, coef0=0.0,\n",
    "    decision_function_shape='ovr', degree=3, gamma='scale', kernel='rbf',\n",
    "    max_iter=-1, probability=False, random_state=None, shrinking=True,\n",
    "    tol=0.001, verbose=False\n",
    ")\n",
    "clf3 = DecisionTreeClassifier(\n",
    "    max_depth=10, min_samples_leaf=5\n",
    ")\n",
    "clf4 = KNeighborsClassifier(\n",
    "    algorithm='auto', leaf_size=30, metric='minkowski',\n",
    "    metric_params=None, n_jobs=None, n_neighbors=25, p=2,\n",
    "    weights='uniform'\n",
    ")\n",
    "vc = VotingClassifier(estimators=[\n",
    "    ('lr', clf1), ('SVC', clf2), ('dtc', clf3), ('KNC', clf4)\n",
    "], voting='hard')"
   ]
  },
  {
   "cell_type": "code",
   "execution_count": 52,
   "metadata": {
    "ExecuteTime": {
     "end_time": "2020-10-06T09:49:43.649824Z",
     "start_time": "2020-10-06T09:49:43.444300Z"
    },
    "colab": {
     "base_uri": "https://localhost:8080/",
     "height": 504
    },
    "id": "t7yNrGKQa0sZ",
    "outputId": "391cca19-fdbd-4175-f3d4-3e66bf875fea"
   },
   "outputs": [
    {
     "data": {
      "text/plain": [
       "VotingClassifier(estimators=[('lr',\n",
       "                              LogisticRegression(C=0.5, class_weight=None,\n",
       "                                                 dual=False, fit_intercept=True,\n",
       "                                                 intercept_scaling=1,\n",
       "                                                 l1_ratio=None, max_iter=100,\n",
       "                                                 multi_class='auto',\n",
       "                                                 n_jobs=None, penalty='l2',\n",
       "                                                 random_state=None,\n",
       "                                                 solver='liblinear', tol=0.0001,\n",
       "                                                 verbose=0, warm_start=False)),\n",
       "                             ('SVC',\n",
       "                              SVC(C=10, break_ties=False, cache_size=200,\n",
       "                                  class_weight=None, coef0=0....\n",
       "                                                     min_impurity_split=None,\n",
       "                                                     min_samples_leaf=5,\n",
       "                                                     min_samples_split=2,\n",
       "                                                     min_weight_fraction_leaf=0.0,\n",
       "                                                     presort='deprecated',\n",
       "                                                     random_state=None,\n",
       "                                                     splitter='best')),\n",
       "                             ('KNC',\n",
       "                              KNeighborsClassifier(algorithm='auto',\n",
       "                                                   leaf_size=30,\n",
       "                                                   metric='minkowski',\n",
       "                                                   metric_params=None,\n",
       "                                                   n_jobs=None, n_neighbors=25,\n",
       "                                                   p=2, weights='uniform'))],\n",
       "                 flatten_transform=True, n_jobs=None, voting='hard',\n",
       "                 weights=None)"
      ]
     },
     "execution_count": 52,
     "metadata": {},
     "output_type": "execute_result"
    }
   ],
   "source": [
    "vc.fit(X_train, y_train)"
   ]
  },
  {
   "cell_type": "code",
   "execution_count": 53,
   "metadata": {
    "ExecuteTime": {
     "end_time": "2020-10-06T09:49:43.855856Z",
     "start_time": "2020-10-06T09:49:43.650826Z"
    },
    "colab": {
     "base_uri": "https://localhost:8080/",
     "height": 34
    },
    "id": "-RkxaC389Q2j",
    "outputId": "5e8e60f7-dd7a-496c-a2d3-9528fd32da02"
   },
   "outputs": [
    {
     "name": "stdout",
     "output_type": "stream",
     "text": [
      "Train Accuracy = 0.8553370786516854\n",
      "Test Accuracy = 0.8435754189944135\n"
     ]
    }
   ],
   "source": [
    "print('Train Accuracy = ' + str(vc.score(X_train, y_train)))\n",
    "print('Test Accuracy = ' + str(vc.score(X_test, y_test)))"
   ]
  },
  {
   "cell_type": "code",
   "execution_count": 54,
   "metadata": {
    "ExecuteTime": {
     "end_time": "2020-10-06T09:49:43.911680Z",
     "start_time": "2020-10-06T09:49:43.860182Z"
    },
    "colab": {
     "base_uri": "https://localhost:8080/",
     "height": 50
    },
    "id": "ZVeFxr5MbxX-",
    "outputId": "a82cdf08-f686-4f51-8340-725b7b2fb7c7"
   },
   "outputs": [
    {
     "name": "stdout",
     "output_type": "stream",
     "text": [
      "F1 score = 0.7878787878787878\n",
      "Roc_Area under the curve =0.8226877874297394\n"
     ]
    }
   ],
   "source": [
    "pre = vc.predict(X_test)\n",
    "print('F1 score = ' + str(f1_score(y_test, pre)))\n",
    "print('Roc_Area under the curve =' + str(roc_auc_score(y_test, pre)))"
   ]
  },
  {
   "cell_type": "markdown",
   "metadata": {
    "id": "xTvut47DqwS-"
   },
   "source": [
    "Soft Voting"
   ]
  },
  {
   "cell_type": "code",
   "execution_count": 55,
   "metadata": {
    "ExecuteTime": {
     "end_time": "2020-10-06T09:49:43.928113Z",
     "start_time": "2020-10-06T09:49:43.915687Z"
    },
    "id": "kwXpyADrq0dZ"
   },
   "outputs": [],
   "source": [
    "clf1 = LogisticRegression(\n",
    "    C=0.5, class_weight=None, dual=False, fit_intercept=True,\n",
    "    intercept_scaling=1, l1_ratio=None, max_iter=100,\n",
    "    multi_class='auto', n_jobs=None, penalty='l2',\n",
    "    random_state=None, solver='liblinear', tol=0.0001, verbose=0,\n",
    "    warm_start=False\n",
    ")\n",
    "clf2 = DecisionTreeClassifier(\n",
    "    max_depth=10, min_samples_leaf=5\n",
    ")\n",
    "\n",
    "vc = VotingClassifier(estimators=[\n",
    "    ('lr', clf1), ('DTC', clf2)\n",
    "], voting='soft')"
   ]
  },
  {
   "cell_type": "code",
   "execution_count": 56,
   "metadata": {
    "ExecuteTime": {
     "end_time": "2020-10-06T09:49:43.966035Z",
     "start_time": "2020-10-06T09:49:43.931117Z"
    },
    "colab": {
     "base_uri": "https://localhost:8080/",
     "height": 470
    },
    "id": "03qRDyAgrFNQ",
    "outputId": "4cea622d-ca39-4812-beb0-a96ec3cce62e"
   },
   "outputs": [
    {
     "data": {
      "text/plain": [
       "VotingClassifier(estimators=[('lr',\n",
       "                              LogisticRegression(C=0.5, class_weight=None,\n",
       "                                                 dual=False, fit_intercept=True,\n",
       "                                                 intercept_scaling=1,\n",
       "                                                 l1_ratio=None, max_iter=100,\n",
       "                                                 multi_class='auto',\n",
       "                                                 n_jobs=None, penalty='l2',\n",
       "                                                 random_state=None,\n",
       "                                                 solver='liblinear', tol=0.0001,\n",
       "                                                 verbose=0, warm_start=False)),\n",
       "                             ('DTC',\n",
       "                              DecisionTreeClassifier(ccp_alpha=0.0,\n",
       "                                                     class_weight=None,\n",
       "                                                     criterion='gini',\n",
       "                                                     max_depth=10,\n",
       "                                                     max_features=None,\n",
       "                                                     max_leaf_nodes=None,\n",
       "                                                     min_impurity_decrease=0.0,\n",
       "                                                     min_impurity_split=None,\n",
       "                                                     min_samples_leaf=5,\n",
       "                                                     min_samples_split=2,\n",
       "                                                     min_weight_fraction_leaf=0.0,\n",
       "                                                     presort='deprecated',\n",
       "                                                     random_state=None,\n",
       "                                                     splitter='best'))],\n",
       "                 flatten_transform=True, n_jobs=None, voting='soft',\n",
       "                 weights=None)"
      ]
     },
     "execution_count": 56,
     "metadata": {},
     "output_type": "execute_result"
    }
   ],
   "source": [
    "vc.fit(X_train, y_train)"
   ]
  },
  {
   "cell_type": "code",
   "execution_count": 57,
   "metadata": {
    "ExecuteTime": {
     "end_time": "2020-10-06T09:49:44.004110Z",
     "start_time": "2020-10-06T09:49:43.967998Z"
    },
    "colab": {
     "base_uri": "https://localhost:8080/",
     "height": 34
    },
    "id": "uUr5S9kj9lXh",
    "outputId": "0dc52715-7b1d-48a8-f2bc-a4ca5f2b77a4"
   },
   "outputs": [
    {
     "name": "stdout",
     "output_type": "stream",
     "text": [
      "Train Accuracy = 0.8778089887640449\n",
      "Test Accuracy = 0.8603351955307262\n"
     ]
    }
   ],
   "source": [
    "print('Train Accuracy = ' + str(vc.score(X_train, y_train)))\n",
    "print('Test Accuracy = ' + str(vc.score(X_test, y_test)))"
   ]
  },
  {
   "cell_type": "code",
   "execution_count": 58,
   "metadata": {
    "ExecuteTime": {
     "end_time": "2020-10-06T09:49:44.040568Z",
     "start_time": "2020-10-06T09:49:44.009305Z"
    },
    "colab": {
     "base_uri": "https://localhost:8080/",
     "height": 50
    },
    "id": "YVFBYw5urK0Z",
    "outputId": "4715473a-b965-4434-8c59-26a489978446"
   },
   "outputs": [
    {
     "name": "stdout",
     "output_type": "stream",
     "text": [
      "F1 score = 0.822695035460993\n",
      "Roc_Area under the curve =0.8475983648441492\n"
     ]
    }
   ],
   "source": [
    "pre = vc.predict(X_test)\n",
    "print('F1 score = ' + str(f1_score(y_test, pre)))\n",
    "print('Roc_Area under the curve =' + str(roc_auc_score(y_test, pre)))"
   ]
  },
  {
   "cell_type": "markdown",
   "metadata": {
    "id": "5OJKI8Km6oWq"
   },
   "source": [
    "<b> Random Forest </b>"
   ]
  },
  {
   "cell_type": "code",
   "execution_count": 59,
   "metadata": {
    "ExecuteTime": {
     "end_time": "2020-10-06T09:49:44.490390Z",
     "start_time": "2020-10-06T09:49:44.042560Z"
    },
    "colab": {
     "base_uri": "https://localhost:8080/",
     "height": 151
    },
    "id": "jWXOPy2orQl-",
    "outputId": "c85ca1e1-592a-41a3-ef21-731aa939cce3"
   },
   "outputs": [
    {
     "data": {
      "text/plain": [
       "RandomForestClassifier(bootstrap=True, ccp_alpha=0.0, class_weight=None,\n",
       "                       criterion='gini', max_depth=25, max_features='auto',\n",
       "                       max_leaf_nodes=100, max_samples=None,\n",
       "                       min_impurity_decrease=0.0, min_impurity_split=None,\n",
       "                       min_samples_leaf=1, min_samples_split=2,\n",
       "                       min_weight_fraction_leaf=0.0, n_estimators=100,\n",
       "                       n_jobs=None, oob_score=True, random_state=None,\n",
       "                       verbose=0, warm_start=False)"
      ]
     },
     "execution_count": 59,
     "metadata": {},
     "output_type": "execute_result"
    }
   ],
   "source": [
    "rf = RandomForestClassifier(\n",
    "    n_estimators=100, criterion='gini', max_depth=25, min_samples_split=2, min_samples_leaf=1,\n",
    "    min_weight_fraction_leaf=0.0, max_features='auto', max_leaf_nodes=100, min_impurity_decrease=0.0,\n",
    "    min_impurity_split=None, bootstrap=True, oob_score=True, n_jobs=None, random_state=None, verbose=0,\n",
    "    warm_start=False, class_weight=None, ccp_alpha=0.0, max_samples=None\n",
    ")\n",
    "rf.fit(X_train, y_train)"
   ]
  },
  {
   "cell_type": "code",
   "execution_count": 60,
   "metadata": {
    "ExecuteTime": {
     "end_time": "2020-10-06T09:49:44.572374Z",
     "start_time": "2020-10-06T09:49:44.492400Z"
    },
    "colab": {
     "base_uri": "https://localhost:8080/",
     "height": 34
    },
    "id": "iRQ-s-6n8jS3",
    "outputId": "b846671e-e601-4e83-8b66-8f3966e5f196"
   },
   "outputs": [
    {
     "name": "stdout",
     "output_type": "stream",
     "text": [
      "Train Accuracy = 0.9438202247191011\n",
      "Test Accuracy = 0.8435754189944135\n"
     ]
    }
   ],
   "source": [
    "print('Train Accuracy = ' + str(rf.score(X_train, y_train)))\n",
    "print('Test Accuracy = ' + str(rf.score(X_test, y_test)))"
   ]
  },
  {
   "cell_type": "code",
   "execution_count": 61,
   "metadata": {
    "ExecuteTime": {
     "end_time": "2020-10-06T09:49:44.640000Z",
     "start_time": "2020-10-06T09:49:44.577404Z"
    },
    "colab": {
     "base_uri": "https://localhost:8080/",
     "height": 50
    },
    "id": "_kN8gPhb8qH4",
    "outputId": "004b000f-6570-413c-e6f9-e43c681c0ff9"
   },
   "outputs": [
    {
     "name": "stdout",
     "output_type": "stream",
     "text": [
      "F1 score = 0.7971014492753624\n",
      "Roc_Area under the curve =0.8278615227388861\n"
     ]
    }
   ],
   "source": [
    "pre = rf.predict(X_test)\n",
    "print('F1 score = ' + str(f1_score(y_test, pre)))\n",
    "print('Roc_Area under the curve =' + str(roc_auc_score(y_test, pre)))"
   ]
  },
  {
   "cell_type": "markdown",
   "metadata": {
    "id": "IYP8p-ir_Yer"
   },
   "source": [
    "<b> Bagging Classifier </b>"
   ]
  },
  {
   "cell_type": "code",
   "execution_count": 62,
   "metadata": {
    "ExecuteTime": {
     "end_time": "2020-10-06T09:49:45.732452Z",
     "start_time": "2020-10-06T09:49:44.645574Z"
    },
    "colab": {
     "base_uri": "https://localhost:8080/",
     "height": 185
    },
    "id": "XAv0qCQS9MdW",
    "outputId": "6fa1edf0-2277-49fc-f25c-591ead330608"
   },
   "outputs": [
    {
     "data": {
      "text/plain": [
       "BaggingClassifier(base_estimator=SVC(C=1.0, break_ties=False, cache_size=200,\n",
       "                                     class_weight=None, coef0=0.0,\n",
       "                                     decision_function_shape='ovr', degree=3,\n",
       "                                     gamma='scale', kernel='rbf', max_iter=-1,\n",
       "                                     probability=False, random_state=None,\n",
       "                                     shrinking=True, tol=0.001, verbose=False),\n",
       "                  bootstrap=True, bootstrap_features=False, max_features=0.8,\n",
       "                  max_samples=0.6, n_estimators=100, n_jobs=None,\n",
       "                  oob_score=False, random_state=None, verbose=0,\n",
       "                  warm_start=False)"
      ]
     },
     "execution_count": 62,
     "metadata": {},
     "output_type": "execute_result"
    }
   ],
   "source": [
    "bcf = BaggingClassifier(\n",
    "    base_estimator=SVC(), n_estimators=100, max_samples=0.6, max_features=0.8\n",
    ")\n",
    "bcf.fit(X_train, y_train)"
   ]
  },
  {
   "cell_type": "code",
   "execution_count": 63,
   "metadata": {
    "ExecuteTime": {
     "end_time": "2020-10-06T09:49:47.309606Z",
     "start_time": "2020-10-06T09:49:45.737040Z"
    },
    "colab": {
     "base_uri": "https://localhost:8080/",
     "height": 34
    },
    "id": "x7EsGGWcAsDn",
    "outputId": "3f02c0ae-e6ad-4c5c-df67-5f3abe89c170"
   },
   "outputs": [
    {
     "name": "stdout",
     "output_type": "stream",
     "text": [
      "Train Accuracy = 0.8356741573033708\n",
      "Test Accuracy = 0.8379888268156425\n"
     ]
    }
   ],
   "source": [
    "print('Train Accuracy = ' + str(bcf.score(X_train, y_train)))\n",
    "print('Test Accuracy = ' + str(bcf.score(X_test, y_test)))"
   ]
  },
  {
   "cell_type": "code",
   "execution_count": 64,
   "metadata": {
    "ExecuteTime": {
     "end_time": "2020-10-06T09:49:47.670715Z",
     "start_time": "2020-10-06T09:49:47.311604Z"
    },
    "colab": {
     "base_uri": "https://localhost:8080/",
     "height": 34
    },
    "id": "1YkuMz1JAxPX",
    "outputId": "ed98fa13-3b88-4685-b33b-4af83b3e0ab0"
   },
   "outputs": [
    {
     "name": "stdout",
     "output_type": "stream",
     "text": [
      "Accuracy = 0.8379888268156425\n"
     ]
    }
   ],
   "source": [
    "pre = bcf.predict(X_test)\n",
    "print('Accuracy = ' + str(accuracy_score(y_test, pre)))"
   ]
  },
  {
   "cell_type": "markdown",
   "metadata": {
    "ExecuteTime": {
     "end_time": "2020-10-05T18:04:53.538528Z",
     "start_time": "2020-10-05T18:04:53.531993Z"
    }
   },
   "source": [
    "<b style=\"font-size:2vw\"> Conclusion </b>"
   ]
  },
  {
   "cell_type": "markdown",
   "metadata": {},
   "source": [
    "1. we have successfully implemented various learning algorithms using pipeline architecture for the titanic dataset. And also, the custom pipeline transformer can be used for any upcoming project.\n",
    "2. Also, we were able to obtain extra improvement in accuracy using the ensemble techniques."
   ]
  }
 ],
 "metadata": {
  "colab": {
   "collapsed_sections": [],
   "name": "Titanic Dataset",
   "provenance": [],
   "toc_visible": true
  },
  "kernelspec": {
   "display_name": "Python 3",
   "language": "python",
   "name": "python3"
  },
  "language_info": {
   "codemirror_mode": {
    "name": "ipython",
    "version": 3
   },
   "file_extension": ".py",
   "mimetype": "text/x-python",
   "name": "python",
   "nbconvert_exporter": "python",
   "pygments_lexer": "ipython3",
   "version": "3.7.6"
  },
  "toc": {
   "base_numbering": 1,
   "nav_menu": {},
   "number_sections": true,
   "sideBar": true,
   "skip_h1_title": false,
   "title_cell": "Table of Contents",
   "title_sidebar": "Contents",
   "toc_cell": false,
   "toc_position": {},
   "toc_section_display": true,
   "toc_window_display": false
  }
 },
 "nbformat": 4,
 "nbformat_minor": 1
}
