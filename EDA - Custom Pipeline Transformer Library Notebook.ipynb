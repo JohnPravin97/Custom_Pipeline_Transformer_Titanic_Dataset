{
 "cells": [
  {
   "cell_type": "code",
   "execution_count": 1,
   "metadata": {
    "ExecuteTime": {
     "end_time": "2020-10-06T07:20:04.489330Z",
     "start_time": "2020-10-06T07:20:01.026998Z"
    }
   },
   "outputs": [],
   "source": [
    "import pandas as pd\n",
    "import numpy as np\n",
    "from functools import reduce\n",
    "from sklearn.preprocessing import PolynomialFeatures, StandardScaler, OneHotEncoder\n",
    "from sklearn.impute import SimpleImputer\n",
    "from sklearn.pipeline import make_pipeline, FeatureUnion\n",
    "from sklearn.base import TransformerMixin, BaseEstimator\n",
    "from sklearn.preprocessing import FunctionTransformer\n",
    "from sklearn.compose import make_column_transformer"
   ]
  },
  {
   "cell_type": "code",
   "execution_count": 2,
   "metadata": {
    "ExecuteTime": {
     "end_time": "2020-10-06T07:20:04.506338Z",
     "start_time": "2020-10-06T07:20:04.491297Z"
    }
   },
   "outputs": [],
   "source": [
    "class make_column_transformerz(TransformerMixin):\n",
    "    def __init__(self, estimator, col_list):\n",
    "        self.estimator=estimator\n",
    "        self.col_list=col_list\n",
    "        self.make_= None\n",
    "    def fit(self, X, y=0):\n",
    "        self.make_= make_column_transformer((self.estimator, self.col_list), remainder='drop')\n",
    "        self.make_.fit(X)\n",
    "        return self\n",
    "    def transform(self,X):\n",
    "        dummy=self.make_.transform(X)\n",
    "        #cols=list(X.columns).remove(str(self.col_list))\n",
    "        transformed=pd.DataFrame(dummy, columns=self.col_list)\n",
    "        X.drop(self.col_list, axis=1, inplace=True)\n",
    "        X=pd.concat([X,transformed], axis=1, join='inner')\n",
    "        return X\n",
    "\n",
    "class columnseparater(TransformerMixin):\n",
    "    def __init__(self, cols):\n",
    "        self.cols=cols\n",
    "    def fit(self, X, y=None):\n",
    "        return self\n",
    "    def transform(self, X):\n",
    "        X_new = X[self.cols]\n",
    "        return X_new\n",
    "\n",
    "class standardscaler(TransformerMixin):\n",
    "    def __init__(self):\n",
    "        self.ss=None\n",
    "        self.mean_=None\n",
    "        self.scale_=None\n",
    "    def fit(self, X, y=None):\n",
    "        self.ss=StandardScaler()\n",
    "        self.ss.fit(X)\n",
    "        self.mean_ = pd.Series(self.ss.mean_, index=X.columns)\n",
    "        self.scale_ = pd.Series(self.ss.scale_, index=X.columns)\n",
    "        return self\n",
    "    def transform(self, X):\n",
    "        x=self.ss.transform(X)\n",
    "        numeric=pd.DataFrame(x, columns=X.columns)\n",
    "        return numeric\n",
    "\n",
    "class categorical_data(TransformerMixin):\n",
    "    def __init__(self):\n",
    "        self.value=None\n",
    "        self.categories_=None\n",
    "        self.columns=[]\n",
    "    def fit(self, X, y=None):\n",
    "        self.value=OneHotEncoder()\n",
    "        self.value.fit(X)\n",
    "        self.categories_=pd.Series(self.value.categories_)\n",
    "        return self\n",
    "    def transform(self, X):\n",
    "        x=self.value.transform(X)\n",
    "        for i in range(len(self.categories_)):\n",
    "          self.columns+=list(self.categories_[i]) #columns remove pannuna work aaghudhu\n",
    "        cate=pd.DataFrame(x.toarray())\n",
    "        return cate\n",
    "\n",
    "class DFFeatureUnion(TransformerMixin):\n",
    "    # FeatureUnion but for pandas DataFrames\n",
    "    def __init__(self, transformer_list):\n",
    "        self.transformer_list = transformer_list\n",
    "\n",
    "    def fit(self, X, y=None):\n",
    "        for t in self.transformer_list:\n",
    "            t.fit(X)\n",
    "        return self\n",
    "\n",
    "    def transform(self, X):\n",
    "        # assumes X is a DataFrame\n",
    "        Xts = [t.transform(X) for t in self.transformer_list]\n",
    "        Xunion = reduce(lambda X1, X2: pd.merge(X1, X2, left_index=True, right_index=True), Xts)\n",
    "        return Xunion\n"
   ]
  }
 ],
 "metadata": {
  "kernelspec": {
   "display_name": "Python 3",
   "language": "python",
   "name": "python3"
  },
  "language_info": {
   "codemirror_mode": {
    "name": "ipython",
    "version": 3
   },
   "file_extension": ".py",
   "mimetype": "text/x-python",
   "name": "python",
   "nbconvert_exporter": "python",
   "pygments_lexer": "ipython3",
   "version": "3.7.6"
  },
  "toc": {
   "base_numbering": 1,
   "nav_menu": {},
   "number_sections": true,
   "sideBar": true,
   "skip_h1_title": false,
   "title_cell": "Table of Contents",
   "title_sidebar": "Contents",
   "toc_cell": false,
   "toc_position": {},
   "toc_section_display": true,
   "toc_window_display": false
  }
 },
 "nbformat": 4,
 "nbformat_minor": 4
}
